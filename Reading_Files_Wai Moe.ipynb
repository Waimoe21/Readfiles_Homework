{
  "nbformat": 4,
  "nbformat_minor": 0,
  "metadata": {
    "colab": {
      "provenance": []
    },
    "kernelspec": {
      "name": "python3",
      "display_name": "Python 3"
    },
    "language_info": {
      "name": "python"
    }
  },
  "cells": [
    {
      "cell_type": "code",
      "source": [
        "with open('members.txt','r') as file:\n",
        "  Title=file.readline()\n",
        "  members=file.readlines()\n",
        "Not_active_members=[]\n",
        "Active_members=[]\n",
        "for x in members:\n",
        "  if (x.lower().count(\"no\")==1):\n",
        "    Not_active_members.append(x)\n",
        "  else:\n",
        "    Active_members.append(x)\n",
        "\n",
        "print(f\"{len(Not_active_members)} out of {len(members)} members are not active.\")\n",
        "print(Title)\n",
        "print(*Not_active_members, sep = \"\\n\")\n",
        "print(f\"{len(Active_members)} members, only {len(Active_members)/len(members)*100}% of them, are active.\")\n",
        "print(Title)\n",
        "print(*Active_members, sep = \"\\n\" )\n"
      ],
      "metadata": {
        "colab": {
          "base_uri": "https://localhost:8080/"
        },
        "id": "TZa4nKWxD3Z8",
        "outputId": "f0ea9eb1-ca01-4cef-b412-94d51d58c4be"
      },
      "execution_count": 5,
      "outputs": [
        {
          "output_type": "stream",
          "name": "stdout",
          "text": [
            "11 out of 20 members are not active.\n",
            "Membership No  Date Joined  Active  \n",
            "\n",
            "    20364      2016-6-11    no    \n",
            "\n",
            "    49109      2016-4-12    no    \n",
            "\n",
            "    36642      2018-11-16   no    \n",
            "\n",
            "    32923      2020-4-25    no    \n",
            "\n",
            "    76363      2016-1-23    no    \n",
            "\n",
            "    54779      2016-6-24    no    \n",
            "\n",
            "    49827      2019-8-1     no    \n",
            "\n",
            "    21077      2016-3-25    no    \n",
            "\n",
            "    15432      2015-1-4     no    \n",
            "\n",
            "    63456      2020-2-11    no    \n",
            "\n",
            "    43411      2018-2-1     no    \n",
            "\n",
            "9members, only 45.0% of them, are active.\n",
            "Membership No  Date Joined  Active  \n",
            "\n",
            "    51945      2015-4-10    yes   \n",
            "\n",
            "    88053      2016-2-19    yes   \n",
            "\n",
            "    49743      2020-4-12    yes   \n",
            "\n",
            "    21690      2016-11-19   yes   \n",
            "\n",
            "    43779      2020-6-9     yes   \n",
            "\n",
            "    42687      2017-9-12    yes   \n",
            "\n",
            "    70880      2020-3-7     yes   \n",
            "\n",
            "    46937      2016-6-24    yes   \n",
            "\n",
            "    37395      2019-4-6     yes   \n",
            "\n"
          ]
        }
      ]
    }
  ]
}